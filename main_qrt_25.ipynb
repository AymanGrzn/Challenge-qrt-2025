{
 "cells": [
  {
   "cell_type": "code",
   "execution_count": 83,
   "metadata": {},
   "outputs": [],
   "source": [
    "import pandas as pd\n",
    "import sklearn as sk\n",
    "import matplotlib.pyplot as plt"
   ]
  },
  {
   "cell_type": "code",
   "execution_count": 107,
   "metadata": {},
   "outputs": [],
   "source": [
    "import numpy as np\n",
    "df1 = pd.read_csv(r\"C:\\Users\\drzit\\Desktop\\challenge qrt 2025\\X_train_9po2I7U\\X_train\\clinical_train.csv\")\n",
    "df2 = pd.read_csv(r\"C:\\Users\\drzit\\Desktop\\challenge qrt 2025\\X_train_9po2I7U\\X_train\\molecular_train.csv\")\n",
    "target_df = pd.read_csv(r\"C:\\Users\\drzit\\Desktop\\challenge qrt 2025\\target_train.csv\")"
   ]
  },
  {
   "cell_type": "code",
   "execution_count": 108,
   "metadata": {},
   "outputs": [],
   "source": [
    "dg1 = pd.read_csv(r\"C:\\Users\\drzit\\Desktop\\challenge qrt 2025\\X_test_xzVefmA\\X_test\\clinical_test.csv\")\n",
    "dg2 = pd.read_csv(r\"C:\\Users\\drzit\\Desktop\\challenge qrt 2025\\X_test_xzVefmA\\X_test\\molecular_test.csv\")"
   ]
  },
  {
   "cell_type": "code",
   "execution_count": 109,
   "metadata": {},
   "outputs": [
    {
     "name": "stdout",
     "output_type": "stream",
     "text": [
      "<class 'pandas.core.frame.DataFrame'>\n",
      "RangeIndex: 3323 entries, 0 to 3322\n",
      "Data columns (total 9 columns):\n",
      " #   Column        Non-Null Count  Dtype  \n",
      "---  ------        --------------  -----  \n",
      " 0   ID            3323 non-null   object \n",
      " 1   CENTER        3323 non-null   object \n",
      " 2   BM_BLAST      3214 non-null   float64\n",
      " 3   WBC           3051 non-null   float64\n",
      " 4   ANC           3130 non-null   float64\n",
      " 5   MONOCYTES     2722 non-null   float64\n",
      " 6   HB            3213 non-null   float64\n",
      " 7   PLT           3199 non-null   float64\n",
      " 8   CYTOGENETICS  2936 non-null   object \n",
      "dtypes: float64(6), object(3)\n",
      "memory usage: 233.8+ KB\n",
      "<class 'pandas.core.frame.DataFrame'>\n",
      "RangeIndex: 10935 entries, 0 to 10934\n",
      "Data columns (total 11 columns):\n",
      " #   Column          Non-Null Count  Dtype  \n",
      "---  ------          --------------  -----  \n",
      " 0   ID              10935 non-null  object \n",
      " 1   CHR             10821 non-null  object \n",
      " 2   START           10821 non-null  float64\n",
      " 3   END             10821 non-null  float64\n",
      " 4   REF             10821 non-null  object \n",
      " 5   ALT             10821 non-null  object \n",
      " 6   GENE            10935 non-null  object \n",
      " 7   PROTEIN_CHANGE  10923 non-null  object \n",
      " 8   EFFECT          10935 non-null  object \n",
      " 9   VAF             10846 non-null  float64\n",
      " 10  DEPTH           10821 non-null  float64\n",
      "dtypes: float64(4), object(7)\n",
      "memory usage: 939.9+ KB\n",
      "<class 'pandas.core.frame.DataFrame'>\n",
      "RangeIndex: 3323 entries, 0 to 3322\n",
      "Data columns (total 3 columns):\n",
      " #   Column     Non-Null Count  Dtype  \n",
      "---  ------     --------------  -----  \n",
      " 0   ID         3323 non-null   object \n",
      " 1   OS_YEARS   3173 non-null   float64\n",
      " 2   OS_STATUS  3173 non-null   float64\n",
      "dtypes: float64(2), object(1)\n",
      "memory usage: 78.0+ KB\n"
     ]
    }
   ],
   "source": [
    "df1.info()\n",
    "df2.info()\n",
    "target_df.info()"
   ]
  },
  {
   "cell_type": "code",
   "execution_count": 110,
   "metadata": {},
   "outputs": [
    {
     "name": "stderr",
     "output_type": "stream",
     "text": [
      "C:\\Users\\drzit\\AppData\\Local\\Temp\\ipykernel_17800\\3932594798.py:20: FutureWarning: Downcasting object dtype arrays on .fillna, .ffill, .bfill is deprecated and will change in a future version. Call result.infer_objects(copy=False) instead. To opt-in to the future behavior, set `pd.set_option('future.no_silent_downcasting', True)`\n",
      "  df1[\"SEX_MALE\"] = df1[\"CYTOGENETICS\"].apply(is_male).fillna(False).astype(\"boolean\")\n",
      "C:\\Users\\drzit\\AppData\\Local\\Temp\\ipykernel_17800\\3932594798.py:21: FutureWarning: Downcasting object dtype arrays on .fillna, .ffill, .bfill is deprecated and will change in a future version. Call result.infer_objects(copy=False) instead. To opt-in to the future behavior, set `pd.set_option('future.no_silent_downcasting', True)`\n",
      "  dg1[\"SEX_MALE\"] = dg1[\"CYTOGENETICS\"].apply(is_male).fillna(False).astype(\"boolean\")\n"
     ]
    }
   ],
   "source": [
    "# Ajoute le nombre de mutation observé chez chaque patient\n",
    "df1['MUTATION'] = df1['ID'].map(df2['ID'].value_counts()).fillna(0).astype(int)\n",
    "dg1['MUTATION'] = dg1['ID'].map(dg2['ID'].value_counts()).fillna(0).astype(int)\n",
    "# Calculer la somme des VAF par ID dans df2\n",
    "vaf_sum = df2.groupby(\"ID\")[\"VAF\"].max()\n",
    "vaf_sum2 = dg2.groupby(\"ID\")[\"VAF\"].max()\n",
    "# Ajouter à df1 une nouvelle colonne VAF_TOT\n",
    "df1[\"VAF_TOT\"] = df1[\"ID\"].map(vaf_sum).fillna(0)\n",
    "dg1[\"VAF_TOT\"] = dg1[\"ID\"].map(vaf_sum2).fillna(0)\n",
    "\n",
    "def is_male(cytogenetic_code):\n",
    "    if pd.isna(cytogenetic_code):\n",
    "        return np.nan\n",
    "    code = str(cytogenetic_code).lower().replace(\" \", \"\")\n",
    "    if \"xy\" in code or \"x,-y\" in code:\n",
    "        return True\n",
    "    else:\n",
    "        return False\n",
    "\n",
    "df1[\"SEX_MALE\"] = df1[\"CYTOGENETICS\"].apply(is_male).astype(\"boolean\").fillna(False)\n",
    "dg1[\"SEX_MALE\"] = dg1[\"CYTOGENETICS\"].apply(is_male).astype(\"boolean\").fillna(False)\n"
   ]
  },
  {
   "cell_type": "code",
   "execution_count": 111,
   "metadata": {},
   "outputs": [
    {
     "name": "stdout",
     "output_type": "stream",
     "text": [
      "0.999\n"
     ]
    }
   ],
   "source": [
    "vaf_max = df1[\"VAF_TOT\"].max()\n",
    "print(vaf_max)"
   ]
  },
  {
   "cell_type": "code",
   "execution_count": 112,
   "metadata": {},
   "outputs": [
    {
     "data": {
      "text/plain": [
       "(           ID CENTER  BM_BLAST     WBC   ANC  MONOCYTES    HB    PLT  \\\n",
       " 0     P132697    MSK      14.0    2.80  0.20       0.70   7.6  119.0   \n",
       " 1     P132698    MSK       1.0    7.40  2.40       0.10  11.6   42.0   \n",
       " 2     P116889    MSK      15.0    3.70  2.10       0.10  14.2   81.0   \n",
       " 3     P132699    MSK       1.0    3.90  1.90       0.10   8.9   77.0   \n",
       " 4     P132700    MSK       6.0  128.00  9.70       0.90  11.1  195.0   \n",
       " ...       ...    ...       ...     ...   ...        ...   ...    ...   \n",
       " 3318  P121828     VU       1.0    3.70  2.53       0.53   8.9  499.0   \n",
       " 3319  P121829     VU       0.0    4.20  2.40       0.22  10.6   49.0   \n",
       " 3320  P121830     VU       0.0    1.80  0.55       0.29   9.4   86.0   \n",
       " 3321  P121853     VU       5.0    1.37  0.37       0.11  11.4  102.0   \n",
       " 3322  P121834     VU       0.0    2.70  0.72       0.23   8.2  239.0   \n",
       " \n",
       "                                            CYTOGENETICS  MUTATION  VAF_TOT  \\\n",
       " 0                       46,xy,del(20)(q12)[2]/46,xy[18]         9   0.4220   \n",
       " 1                                                 46,xx         3   0.2825   \n",
       " 2                    46,xy,t(3;3)(q25;q27)[8]/46,xy[12]         3   0.0480   \n",
       " 3                     46,xy,del(3)(q26q27)[15]/46,xy[5]        11   0.4770   \n",
       " 4                   46,xx,t(3;9)(p13;q22)[10]/46,xx[10]         1   0.4721   \n",
       " ...                                                 ...       ...      ...   \n",
       " 3318                                          46,xy[20]         2   0.4100   \n",
       " 3319  46,xy,del(13)(q12q14)[1]/45,x,-y,del(13)(q12q1...         1   0.0420   \n",
       " 3320     46,xy,del(20)(q11.2q13.1)[4]/45,xy,idem,-7[16]         6   0.4390   \n",
       " 3321  46,xx,del(1)(p34)[5]/45,xx,sl,-18[12]/46,xx,sd...         4   0.2690   \n",
       " 3322                                          46,xy[20]         5   0.3450   \n",
       " \n",
       "       SEX_MALE  inframe_codon_loss  non_synonymous_codon  \n",
       " 0         True                 0.0                   1.0  \n",
       " 1        False                 0.0                   0.0  \n",
       " 2         True                 0.0                   1.0  \n",
       " 3         True                 0.0                   1.0  \n",
       " 4        False                 0.0                   0.0  \n",
       " ...        ...                 ...                   ...  \n",
       " 3318      True                 0.0                   1.0  \n",
       " 3319      True                 0.0                   1.0  \n",
       " 3320      True                 0.0                   1.0  \n",
       " 3321     False                 0.0                   1.0  \n",
       " 3322      True                 0.0                   1.0  \n",
       " \n",
       " [3323 rows x 14 columns],\n",
       "            ID CENTER  BM_BLAST    WBC     ANC  MONOCYTES    HB   PLT  \\\n",
       " 0        KYW1    KYW      68.0   3.45  0.5865        0.0   7.6  48.0   \n",
       " 1        KYW2    KYW      35.0   3.18  1.2402        0.0  10.0  32.0   \n",
       " 2        KYW3    KYW       0.0  12.40  8.6800        0.0  12.3  25.0   \n",
       " 3        KYW4    KYW      61.0   5.55  2.0535        0.0   8.0  44.0   \n",
       " 4        KYW5    KYW       2.0   1.21  0.7381        0.0   8.6  27.0   \n",
       " ...       ...    ...       ...    ...     ...        ...   ...   ...   \n",
       " 1188  KYW1189    KYW       0.0   0.00  0.0000        0.0   0.0   0.0   \n",
       " 1189  KYW1190    KYW       0.0   0.00  0.0000        0.0   0.0   0.0   \n",
       " 1190  KYW1191    KYW       0.0   0.00  0.0000        0.0   0.0   0.0   \n",
       " 1191  KYW1192    KYW       0.0   0.00  0.0000        0.0   0.0   0.0   \n",
       " 1192  KYW1193    KYW       0.0   0.00  0.0000        0.0   0.0   0.0   \n",
       " \n",
       "                                            CYTOGENETICS  MUTATION  VAF_TOT  \\\n",
       " 0                   47,XY,+X,del(9)(q?)[15]/47,XY,+X[5]         4    0.384   \n",
       " 1     46,XY,der(3)?t(3;11)(q26.2;q23),add(4)(p15).de...         3    0.713   \n",
       " 2                                              47,XX,+8         3    0.327   \n",
       " 3                                                Normal         3    0.428   \n",
       " 4     43,XY,dic(5;17)(q11.2;p11.2),-7,-13,-20,-22,+r...         3    0.407   \n",
       " ...                                                 ...       ...      ...   \n",
       " 1188                                                  0         2    0.475   \n",
       " 1189                                                  0         3    0.648   \n",
       " 1190                                                  0         1    0.122   \n",
       " 1191                                                  0         3    0.507   \n",
       " 1192                                                  0         2    0.713   \n",
       " \n",
       "       SEX_MALE  inframe_codon_loss  non_synonymous_codon  \n",
       " 0         True                 0.0                   1.0  \n",
       " 1         True                 0.0                   1.0  \n",
       " 2        False                 0.0                   0.0  \n",
       " 3        False                 0.0                   0.0  \n",
       " 4         True                 0.0                   1.0  \n",
       " ...        ...                 ...                   ...  \n",
       " 1188     False                 0.0                   1.0  \n",
       " 1189     False                 0.0                   1.0  \n",
       " 1190     False                 0.0                   1.0  \n",
       " 1191     False                 0.0                   1.0  \n",
       " 1192     False                 0.0                   1.0  \n",
       " \n",
       " [1193 rows x 14 columns])"
      ]
     },
     "execution_count": 112,
     "metadata": {},
     "output_type": "execute_result"
    }
   ],
   "source": [
    "# Pivot binaire avec counts\n",
    "effect_pivot = pd.crosstab(df2[\"ID\"], df2[\"EFFECT\"])\n",
    "effect_pivot2 = pd.crosstab(dg2[\"ID\"], dg2[\"EFFECT\"])\n",
    "\n",
    "# Convertir les comptes en booléens (0 ou 1)\n",
    "effect_pivot_bool = (effect_pivot > 0).astype(int)\n",
    "effect_pivot_bool2 = (effect_pivot2 > 0).astype(int)\n",
    "\n",
    "# Filtrer pour garder que ces effets\n",
    "effects_to_keep = [\"inframe_codon_loss\", \"non_synonymous_codon\"]\n",
    "effect_pivot_filtered = effect_pivot_bool[effects_to_keep]\n",
    "effect_pivot_filtered2 = effect_pivot_bool2[effects_to_keep]\n",
    "\n",
    "# Fusionner avec df1\n",
    "df1 = df1.merge(effect_pivot_filtered, left_on=\"ID\", right_index=True, how=\"left\")\n",
    "dg1 = dg1.merge(effect_pivot_filtered2, left_on=\"ID\", right_index=True, how=\"left\")\n",
    "# Remplacer les NaN par 0 (patients sans ces effets)\n",
    "df1.fillna(0, inplace=True)\n",
    "dg1.fillna(0, inplace=True)\n",
    "df1, dg1"
   ]
  },
  {
   "cell_type": "code",
   "execution_count": 113,
   "metadata": {},
   "outputs": [],
   "source": [
    "effects_cols = df1.columns[11:]\n",
    "\n",
    "# Convertir ces colonnes en booléens\n",
    "df1[effects_cols] = df1[effects_cols].astype(bool)\n",
    "dg1[effects_cols] = dg1[effects_cols].astype(bool)"
   ]
  },
  {
   "cell_type": "code",
   "execution_count": 114,
   "metadata": {},
   "outputs": [
    {
     "name": "stdout",
     "output_type": "stream",
     "text": [
      "OS_STATUS    float64\n",
      "OS_YEARS     float64\n",
      "dtype: object\n"
     ]
    }
   ],
   "source": [
    "from sksurv.util import Surv\n",
    "\n",
    "# Drop rows where 'OS_YEARS' is NaN if conversion caused any issues\n",
    "target_df.dropna(subset=['OS_YEARS', 'OS_STATUS'], inplace=True)\n",
    "\n",
    "# Check the data types to ensure 'OS_STATUS' is boolean and 'OS_YEARS' is numeric\n",
    "print(target_df[['OS_STATUS', 'OS_YEARS']].dtypes)\n",
    "\n",
    "# Contarget_dfvert 'OS_YEARS' to numeric if it isn’t already\n",
    "target_df['OS_YEARS'] = pd.to_numeric(target_df['OS_YEARS'], errors='coerce')\n",
    "\n",
    "# Ensure 'OS_STATUS' is boolean\n",
    "target_df['OS_STATUS'] = target_df['OS_STATUS'].astype(bool)\n",
    "\n",
    "# 🔁 Filtrer df1 pour ne garder que les ID présents dans le target nettoyé\n",
    "df1_filtered = df1[df1['ID'].isin(target_df['ID'])].copy()\n",
    "\n",
    "# 🔁 Réindexer target_df pour qu'il soit dans le même ordre que df1_filtered\n",
    "target_filtered = target_df.set_index(\"ID\").loc[df1_filtered[\"ID\"]].reset_index()\n",
    "\n",
    "y = Surv.from_dataframe('OS_STATUS', 'OS_YEARS', target_filtered)"
   ]
  },
  {
   "cell_type": "code",
   "execution_count": 115,
   "metadata": {},
   "outputs": [
    {
     "name": "stdout",
     "output_type": "stream",
     "text": [
      "<class 'pandas.core.frame.DataFrame'>\n",
      "Index: 3173 entries, 0 to 3322\n",
      "Data columns (total 11 columns):\n",
      " #   Column                Non-Null Count  Dtype  \n",
      "---  ------                --------------  -----  \n",
      " 0   BM_BLAST              3173 non-null   float64\n",
      " 1   WBC                   3173 non-null   float64\n",
      " 2   ANC                   3173 non-null   float64\n",
      " 3   MONOCYTES             3173 non-null   float64\n",
      " 4   HB                    3173 non-null   float64\n",
      " 5   PLT                   3173 non-null   float64\n",
      " 6   MUTATION              3173 non-null   float64\n",
      " 7   VAF_TOT               3173 non-null   float64\n",
      " 8   SEX_MALE              3173 non-null   bool   \n",
      " 9   inframe_codon_loss    3173 non-null   bool   \n",
      " 10  non_synonymous_codon  3173 non-null   bool   \n",
      "dtypes: bool(3), float64(8)\n",
      "memory usage: 232.4 KB\n"
     ]
    }
   ],
   "source": [
    "from sklearn.preprocessing import StandardScaler\n",
    "\n",
    "# 1. On enlève les colonnes non souhaitées\n",
    "X = df1_filtered .drop(columns=[\"ID\", \"CENTER\", \"CYTOGENETICS\"])\n",
    "X2 = dg1.drop(columns=[\"ID\", \"CENTER\", \"CYTOGENETICS\"])\n",
    "\n",
    "# 2. On identifie les colonnes numériques (float ou int)\n",
    "numeric_cols = X.select_dtypes(include=[\"float\", \"int\"]).columns\n",
    "\n",
    "# 3. Standardisation des colonnes numériques\n",
    "scaler = StandardScaler()\n",
    "X[numeric_cols] = scaler.fit_transform(X[numeric_cols])\n",
    "X2[numeric_cols] = scaler.fit_transform(X2[numeric_cols])\n",
    "\n",
    "X.info()"
   ]
  },
  {
   "cell_type": "code",
   "execution_count": 116,
   "metadata": {},
   "outputs": [],
   "source": [
    "from sklearn.model_selection import train_test_split\n",
    "# Split the data into training and testing sets\n",
    "X_train, X_test, y_train, y_test = train_test_split(X, y, test_size=0.3, random_state=42)"
   ]
  },
  {
   "cell_type": "code",
   "execution_count": 117,
   "metadata": {},
   "outputs": [
    {
     "name": "stdout",
     "output_type": "stream",
     "text": [
      "Cox Proportional Hazard Model Concordance Index IPCW on train: 0.67\n",
      "Cox Proportional Hazard Model Concordance Index IPCW on test: 0.67\n"
     ]
    }
   ],
   "source": [
    "from sksurv.linear_model import CoxPHSurvivalAnalysis\n",
    "from sksurv.metrics import concordance_index_censored , concordance_index_ipcw\n",
    "\n",
    "# Initialize and train the Cox Proportional Hazards model\n",
    "cox = CoxPHSurvivalAnalysis()\n",
    "cox.fit(X_train, y_train)\n",
    "\n",
    "# Evaluate the model using Concordance Index IPCW\n",
    "cox_cindex_train = concordance_index_ipcw(y_train, y_train, cox.predict(X_train), tau=7)[0]\n",
    "cox_cindex_test = concordance_index_ipcw(y_train, y_test, cox.predict(X_test), tau=7)[0]\n",
    "print(f\"Cox Proportional Hazard Model Concordance Index IPCW on train: {cox_cindex_train:.2f}\")\n",
    "print(f\"Cox Proportional Hazard Model Concordance Index IPCW on test: {cox_cindex_test:.2f}\")"
   ]
  },
  {
   "cell_type": "code",
   "execution_count": 123,
   "metadata": {},
   "outputs": [
    {
     "name": "stdout",
     "output_type": "stream",
     "text": [
      "Random Survival Forest Concordance Index IPCW on train: 0.77\n",
      "Random Survival Forest Concordance Index IPCW on test: 0.69\n"
     ]
    }
   ],
   "source": [
    "from sksurv.ensemble import RandomSurvivalForest\n",
    "from sksurv.metrics import concordance_index_ipcw\n",
    "\n",
    "# Initialiser et entraîner le modèle Random Survival Forest\n",
    "rsf = RandomSurvivalForest(\n",
    "    n_estimators=1000,\n",
    "    min_samples_split=10,\n",
    "    min_samples_leaf=15,\n",
    "    max_features=\"sqrt\",\n",
    "    n_jobs=-1,\n",
    "    random_state=42\n",
    ")\n",
    "rsf.fit(X_train, y_train)\n",
    "\n",
    "# Prédictions (fonction de survie estimée -> on prend le risque à un temps donné, ici tau)\n",
    "pred_train = rsf.predict(X_train)\n",
    "pred_test = rsf.predict(X_test)\n",
    "\n",
    "# Évaluation avec l'indice de concordance IPCW\n",
    "rsf_cindex_train = concordance_index_ipcw(y_train, y_train, pred_train, tau=7)[0]\n",
    "rsf_cindex_test = concordance_index_ipcw(y_train, y_test, pred_test, tau=7)[0]\n",
    "\n",
    "print(f\"Random Survival Forest Concordance Index IPCW on train: {rsf_cindex_train:.2f}\")\n",
    "print(f\"Random Survival Forest Concordance Index IPCW on test: {rsf_cindex_test:.2f}\")\n"
   ]
  },
  {
   "cell_type": "code",
   "execution_count": 122,
   "metadata": {},
   "outputs": [],
   "source": [
    "\n",
    "rsf1 = RandomSurvivalForest(\n",
    "    n_estimators=1000,\n",
    "    min_samples_split=10,\n",
    "    min_samples_leaf=15,\n",
    "    max_features=\"sqrt\",\n",
    "    n_jobs=-1,\n",
    "    random_state=42\n",
    ")\n",
    "\n",
    "rsf1.fit(X, y)\n",
    "\n",
    "pred = rsf1.predict(X2)\n",
    "submission = pd.Series(pred, index=dg1['ID'], name='risk_score')\n",
    "submission.to_csv('./first_rsf3.csv')"
   ]
  },
  {
   "cell_type": "code",
   "execution_count": 120,
   "metadata": {},
   "outputs": [
    {
     "name": "stdout",
     "output_type": "stream",
     "text": [
      "PLT                     0.052893\n",
      "MONOCYTES               0.034664\n",
      "BM_BLAST                0.027325\n",
      "HB                      0.016542\n",
      "WBC                     0.013969\n",
      "ANC                     0.013622\n",
      "VAF_TOT                 0.012979\n",
      "MUTATION                0.012215\n",
      "SEX_MALE                0.011290\n",
      "inframe_codon_loss      0.006876\n",
      "non_synonymous_codon    0.004780\n",
      "dtype: float64\n"
     ]
    }
   ],
   "source": [
    "from sklearn.feature_selection import mutual_info_regression\n",
    "import pandas as pd\n",
    "\n",
    "# Extraire y en tant que vecteur numérique depuis l'objet Surv\n",
    "# (y est probablement un StructuredArray avec les champs \"event\" et \"time\")\n",
    "y_os_years = y[\"OS_YEARS\"] if \"OS_YEARS\" in y.dtype.names else y[\"time\"]\n",
    "\n",
    "# Créer un masque pour ne garder que les lignes sans NaN\n",
    "mask = ~np.isnan(y_os_years)\n",
    "\n",
    "# Nettoyer X et y\n",
    "X_clean = X.loc[mask]\n",
    "y_clean = y_os_years[mask]\n",
    "\n",
    "# Calculer l'information mutuelle\n",
    "mi = mutual_info_regression(X_clean, y_clean, discrete_features='auto', n_neighbors=3, random_state=42)\n",
    "\n",
    "# Résumé\n",
    "mi_scores = pd.Series(mi, index=X_clean.columns).sort_values(ascending=False)\n",
    "print(mi_scores)\n"
   ]
  }
 ],
 "metadata": {
  "kernelspec": {
   "display_name": "Python 3",
   "language": "python",
   "name": "python3"
  },
  "language_info": {
   "codemirror_mode": {
    "name": "ipython",
    "version": 3
   },
   "file_extension": ".py",
   "mimetype": "text/x-python",
   "name": "python",
   "nbconvert_exporter": "python",
   "pygments_lexer": "ipython3",
   "version": "3.10.8"
  }
 },
 "nbformat": 4,
 "nbformat_minor": 2
}
